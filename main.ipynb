{
 "cells": [
  {
   "cell_type": "code",
   "execution_count": 20,
   "metadata": {},
   "outputs": [
    {
     "name": "stderr",
     "output_type": "stream",
     "text": [
      "C:\\Users\\Admin\\AppData\\Local\\Temp\\ipykernel_1540\\2930881052.py:13: DeprecationWarning: ANTIALIAS is deprecated and will be removed in Pillow 10 (2023-07-01). Use LANCZOS or Resampling.LANCZOS instead.\n",
      "  mask_img = mask_img.resize(input_img.size, Image.ANTIALIAS)\n"
     ]
    }
   ],
   "source": [
    "from PIL import Image\n",
    "\n",
    "# Load the images\n",
    "input_image_path = \"input.jpg\"\n",
    "mask_image_path = \"mask.png\"\n",
    "result_image_output_path = \"User_result.jpg\"\n",
    "\n",
    "input_img = Image.open(input_image_path)\n",
    "mask_img = Image.open(mask_image_path).convert(\"L\")\n",
    "\n",
    "# Ensure the mask image has the same size as the input image\n",
    "if input_img.size != mask_img.size:\n",
    "    mask_img = mask_img.resize(input_img.size, Image.ANTIALIAS)\n",
    "\n",
    "# Create a red background image\n",
    "background_img = Image.new(\"RGB\", input_img.size, (255, 0, 0))\n",
    "\n",
    "# Apply the mask to the input image\n",
    "result_img = Image.composite(input_img, background_img, mask_img)\n",
    "\n",
    "# Save the result image\n",
    "result_img.save(result_image_output_path)"
   ]
  },
  {
   "cell_type": "code",
   "execution_count": null,
   "metadata": {},
   "outputs": [],
   "source": []
  }
 ],
 "metadata": {
  "kernelspec": {
   "display_name": "base",
   "language": "python",
   "name": "python3"
  },
  "language_info": {
   "codemirror_mode": {
    "name": "ipython",
    "version": 3
   },
   "file_extension": ".py",
   "mimetype": "text/x-python",
   "name": "python",
   "nbconvert_exporter": "python",
   "pygments_lexer": "ipython3",
   "version": "3.11.5"
  }
 },
 "nbformat": 4,
 "nbformat_minor": 2
}
